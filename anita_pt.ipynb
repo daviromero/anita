{
 "cells": [
  {
   "cell_type": "markdown",
   "metadata": {},
   "source": [
    "# ANITA - Analytic Tableau Proof Assistant\n",
    "> Autor: Prof. Davi Romero de Vasconcelos - daviromero@ufc.br\n",
    ">\n",
    "> Universidade Federal do Ceará, Quixadá Campus"
   ]
  },
  {
   "cell_type": "code",
   "execution_count": null,
   "metadata": {},
   "outputs": [],
   "source": [
    "import ipywidgets as widgets\n",
    "from IPython.display import display, Markdown\n",
    "import traceback\n",
    "import anita_pt_fo\n",
    "\n",
    "def anita(input_string='', height_layout='300px'):\n",
    "  layout = widgets.Layout(width='90%', height=height_layout)\n",
    "  run = widgets.Button(description=\"Verificar\")\n",
    "  input = widgets.Textarea(\n",
    "      value=input_string,\n",
    "      placeholder='Digite sua demonstração:',\n",
    "      description='',\n",
    "      layout=layout\n",
    "      )\n",
    "  cLatex = widgets.Checkbox(value=False, description='Exibir Latex')\n",
    "  output = widgets.Output()\n",
    "  wButtons = widgets.HBox([run, cLatex])\n",
    "  \n",
    "  display(widgets.HTML('<h3>Digite sua demonstração em Tableau Analítico:</h3>'), \n",
    "          input, wButtons, output)\n",
    "\n",
    "  def on_button_run_clicked(_):\n",
    "    output.clear_output()\n",
    "    with output:\n",
    "      try:\n",
    "          result = anita_pt_fo.ParserAnita.getProof(input.value)\n",
    "          if(result.errors==[]):\n",
    "            msg = []\n",
    "            if(result.is_closed):\n",
    "              display(Markdown(rf'**<font color=\"blue\">Parabéns! A demonstração de {result.theorem} está correta.</font>**'))\n",
    "            else:\n",
    "              if result.saturared_branches!=[]:\n",
    "                display(Markdown(rf'**<font color=\"blue\">O teorema {result.theorem} não é válido.</font>**'))              \n",
    "                msg.append(\"São contra-exemplos:\")\n",
    "                for s_v in result.counter_examples:\n",
    "                  msg.append(s_v)                  \n",
    "              else:\n",
    "                display(Markdown(rf'**<font color=\"red\">A demonstração de {result.theorem} não está completa.</font>**'))              \n",
    "                msg.append(\"Os ramos abaixo não estão saturados:\")\n",
    "                for rules in result.open_branches:\n",
    "                  msg.append(\"Ramo:\")\n",
    "                  msg.append('<br>'.join([r.toString() for r in reversed(rules)]))\n",
    "            if(cLatex.value):\n",
    "              msg.append(\"Código Latex:\")\n",
    "              msg.append(\"%\"+result.latex_theorem)\n",
    "              msg.append(result.colored_latex)\n",
    "            display(widgets.HTML('<br>'.join(msg)))       \n",
    "          else:\n",
    "            display(Markdown(rf'**<font color=\"red\">Sua demonstração contém os seguintes erros:</font>**'))\n",
    "            for error in result.errors:\n",
    "                print(error)\n",
    "      except ValueError:\n",
    "          s = traceback.format_exc()\n",
    "          result = (s.split(\"@@\"))[-1]\n",
    "          print (f'{result}')\n",
    "      else:\n",
    "          pass\n",
    "  run.on_click(on_button_run_clicked)\n",
    "\n",
    "\n",
    "def anita_theorem(input_theorem, input_proof='', height_layout='300px',default_gentzen=False, default_fitch=False):\n",
    "  layout = widgets.Layout(width='90%', height=height_layout)\n",
    "  run = widgets.Button(description=\"Verificar\")\n",
    "  input = widgets.Textarea(\n",
    "      value=input_proof,\n",
    "      placeholder='Digite sua demonstração:',\n",
    "      description='',\n",
    "      layout=layout\n",
    "      )\n",
    "  premisses, conclusion = anita_pt_fo.ParserTheorem.getTheorem(input_theorem)\n",
    "  if conclusion == None:\n",
    "    display(Markdown(rf'**<font color=\"red\">{input_theorem} não é um teorema válido!</font>**'))\n",
    "    return\n",
    "  cLatex = widgets.Checkbox(value=False, description='Exibir Latex')\n",
    "  output = widgets.Output()\n",
    "  wButtons = widgets.HBox([run, cLatex])\n",
    "  \n",
    "  display(widgets.HTML(f'<h3>Digite a demonstração de {input_theorem} em Tableau Analítico:</h3>'), \n",
    "          input, wButtons, output)\n",
    "  \n",
    "  def on_button_run_clicked(_):\n",
    "    output.clear_output()\n",
    "    with output:\n",
    "      try:\n",
    "          result = anita_pt_fo.ParserAnita.getProof(input.value)\n",
    "          if(result.errors==[]):\n",
    "              set_premisses = set([p.toString() for p in premisses])\n",
    "              set_premisses_result = set([p.toString() for p in result.premisses])\n",
    "              if(conclusion==result.conclusion and set_premisses==set_premisses_result):\n",
    "                msg = []\n",
    "                if(result.is_closed):\n",
    "                  display(Markdown(rf'**<font color=\"blue\">Parabéns! A demonstraçãoo de {result.theorem} está correta.</font>**'))\n",
    "                else:\n",
    "                  if result.saturared_branches!=[]:\n",
    "                    display(Markdown(rf'**<font color=\"blue\">O teorema {result.theorem} não é válido.</font>**'))              \n",
    "                    msg.append(\"São contra-exemplos:\")\n",
    "                    for s_v in result.counter_examples:\n",
    "                      msg.append(s_v)                  \n",
    "                  else:\n",
    "                    display(Markdown(rf'**<font color=\"red\">A demonstração de {result.theorem} não está completa.</font>**'))              \n",
    "                    msg.append(\"Os ramos abaixo não estão saturados:\")\n",
    "                    for rules in result.open_branches:\n",
    "                      msg.append(\"Ramo:\")\n",
    "                      msg.append('<br>'.join([r.toString() for r in reversed(rules)]))\n",
    "                if(cLatex.value):\n",
    "                  msg.append(\"Código Latex:\")\n",
    "                  msg.append(\"%\"+result.latex_theorem)\n",
    "                  msg.append(result.colored_latex)\n",
    "                display(widgets.HTML('<br>'.join(msg)))       \n",
    "              else:\n",
    "                display(Markdown(rf'**<font color=\"red\">Sua demostração de {result.theorem} é válida, mas é diferente da demonstração solicitada {input_theorem}!</font>**'))\n",
    "          else:\n",
    "            display(Markdown(rf'**<font color=\"red\">Sua demonstração contém os seguintes erros:</font>**'))\n",
    "            for error in result.errors:\n",
    "                print(error)\n",
    "      except ValueError:\n",
    "          s = traceback.format_exc()\n",
    "          result = (s.split(\"@@\"))[-1]\n",
    "          print (f'{result}')\n",
    "      else:\n",
    "          pass\n",
    "  run.on_click(on_button_run_clicked)\n",
    "\n",
    "\n",
    "\n",
    "\n",
    "from random import randrange\n",
    "\n",
    "lTheorems = [' |- (A|(A&B))->A', ' |- (A&(A|B))->A', ' |- (A->(B->C))->(B->(A->C))', ' |- (A->(A->B))->(A->B)', ' |- (~A->B)->((~A->~B)->A)', ' |- A|~A', ' |- (A->B)|(B->A)', ' |- A->A', ' |- (A->B)->((C->A)->(C->A))', 'A&B->C |- B->(A->C)', 'B->(A->C) |- A&B->C', ' |- (A->(B->C))->((A->B)->(A->C))', ' |- A->(B->A)', ' |- ((A->B)->A)->A', 'A->C, A|B, B->C |- C', 'A |- ~~A', '~~A |- A', 'A->B, ~B |- ~A', '~B->~A |- A->B', 'A->B |- ~B->~A', '~(A|B) |- ~A&~B', '~A&~B |- ~(A|B)', '~(A&B) |- ~A|~B', '~A|~B |- ~(A&B)', 'A|(B&C) |- (A|B)&(A|C)', '(A|B)&(A|C) |- A|(B&C)', 'A&(B|C) |- (A&B)|(A&C)', '(A&B)|(A&C) |- A&(B|C)', 'A|B, ~B |- A', 'A|B |- ~A->B', '~A->B |- A|B', 'A&B |- ~(A->~B)', '~(A->~B) |- A&B', 'A|B |- ~(~A&~B)', '~(~A&~B) |- A|B', 'A->B |- ~(A&~B)', '~(A&~B) |- A->B', 'A&B |- ~(~A|~B)', '~(~A|~B) |- A&B', 'A->B |- ~A|B', '~A|B |- A->B', ' |- Ax P(x)->~Ex ~P(x)', ' |- ~Ex ~P(x)->Ax P(x)', ' |- ~Ex ~P(x)->Ax P(x)', ' |- Ex P(x)->~Ax ~P(x)', ' |- Ax (P(x)&Q(x))->(Ax P(x)&Ax Q(x))', ' |- Ax Ay P(x,y)->Ay Ax P(x,y)', ' |- Ax (P->Q(x))->(P->Ax Q(x))', ' |- Ex (P(x)|Q(x))->(Ex P(x)|Ex Q(x))', ' |- ~Ax P(x)->Ex ~P(x)', ' |- Ex ~P(x)->~Ax P(x)', ' |- ~Ex P(x)->Ax ~P(x)', ' |- Ax ~P(x)->~Ex P(x)', ' |- Ex (P(x)&Q)->(Ex P(x)&Q)', ' |- (Ex P(x)&Q)->Ex (P(x)&Q)', ' |- Ax (P(x)|Q)->(Ax P(x)|Q)', ' |- (Ax P(x)|Q)->Ax (P(x)|Q)', ' |- Ex (P(x)->Q)->(Ax P(x)->Q)', ' |- (Ax P(x)->Q)->Ex (P(x)->Q)', ' |- Ex (P->Q(x))->(P->Ex Q(x))', ' |- (P->Ex Q(x))->Ex (P->Q(x))', ' |- Ex (P(x)->Ax P(x))']\n",
    "\n"
   ]
  },
  {
   "cell_type": "code",
   "execution_count": 4,
   "metadata": {},
   "outputs": [
    {
     "data": {
      "application/vnd.jupyter.widget-view+json": {
       "model_id": "d1a9b03948254f33b0568caa602d5e97",
       "version_major": 2,
       "version_minor": 0
      },
      "text/plain": [
       "HTML(value='<h3>Digite sua demonstração em Tableau Analítico:</h3>')"
      ]
     },
     "metadata": {},
     "output_type": "display_data"
    },
    {
     "data": {
      "application/vnd.jupyter.widget-view+json": {
       "model_id": "7fcd74f26d4743bbaa14b8296204d750",
       "version_major": 2,
       "version_minor": 0
      },
      "text/plain": [
       "Textarea(value='', layout=Layout(height='300px', width='90%'), placeholder='Digite sua demonstração:')"
      ]
     },
     "metadata": {},
     "output_type": "display_data"
    },
    {
     "data": {
      "application/vnd.jupyter.widget-view+json": {
       "model_id": "7faf780caf1849ba844026e883c02f3d",
       "version_major": 2,
       "version_minor": 0
      },
      "text/plain": [
       "HBox(children=(Button(description='Verificar', style=ButtonStyle()), Checkbox(value=False, description='Exibir…"
      ]
     },
     "metadata": {},
     "output_type": "display_data"
    },
    {
     "data": {
      "application/vnd.jupyter.widget-view+json": {
       "model_id": "085e0fbcf3ee4813936065d83b179b0e",
       "version_major": 2,
       "version_minor": 0
      },
      "text/plain": [
       "Output()"
      ]
     },
     "metadata": {},
     "output_type": "display_data"
    }
   ],
   "source": [
    "anita()"
   ]
  },
  {
   "cell_type": "code",
   "execution_count": null,
   "metadata": {},
   "outputs": [],
   "source": []
  }
 ],
 "metadata": {
  "kernelspec": {
   "display_name": "Python 3.9.7 ('base')",
   "language": "python",
   "name": "python3"
  },
  "language_info": {
   "codemirror_mode": {
    "name": "ipython",
    "version": 3
   },
   "file_extension": ".py",
   "mimetype": "text/x-python",
   "name": "python",
   "nbconvert_exporter": "python",
   "pygments_lexer": "ipython3",
   "version": "3.9.7"
  },
  "orig_nbformat": 4,
  "vscode": {
   "interpreter": {
    "hash": "40d3a090f54c6569ab1632332b64b2c03c39dcf918b08424e98f38b5ae0af88f"
   }
  }
 },
 "nbformat": 4,
 "nbformat_minor": 2
}
